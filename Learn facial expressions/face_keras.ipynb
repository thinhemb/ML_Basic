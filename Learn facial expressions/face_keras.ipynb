{
 "metadata": {
  "language_info": {
   "codemirror_mode": {
    "name": "ipython",
    "version": 3
   },
   "file_extension": ".py",
   "mimetype": "text/x-python",
   "name": "python",
   "nbconvert_exporter": "python",
   "pygments_lexer": "ipython3",
   "version": "3.9.4"
  },
  "orig_nbformat": 4,
  "kernelspec": {
   "name": "python3",
   "display_name": "Python 3.9.4 64-bit"
  },
  "interpreter": {
   "hash": "3d6f83d0f182cc7a9b062ee15cb3b0307539c91cd94e08753511486f8c2e0bf0"
  }
 },
 "nbformat": 4,
 "nbformat_minor": 2,
 "cells": [
  {
   "cell_type": "code",
   "execution_count": 7,
   "metadata": {},
   "outputs": [],
   "source": [
    "import numpy as np \n",
    "import pandas as pd \n",
    "from keras.models import Sequential\n",
    "from keras.layers import Flatten, Dense, Dropout , Activation\n",
    "from keras.layers import Conv2D, MaxPooling2D\n",
    "import cv2,os\n",
    "from keras.utils import np_utils"
   ]
  },
  {
   "cell_type": "code",
   "execution_count": 8,
   "metadata": {},
   "outputs": [],
   "source": [
    "path_train = \"../Learn facial expressions/train/\"\n",
    "path_test = \"../Learn facial expressions/test/\""
   ]
  },
  {
   "cell_type": "code",
   "execution_count": 9,
   "metadata": {},
   "outputs": [],
   "source": [
    "\n"
   ]
  },
  {
   "cell_type": "code",
   "execution_count": 10,
   "metadata": {},
   "outputs": [],
   "source": [
    "#load data train, thêm data , làm ảnh không mờ\n",
    "def load_data(path):\n",
    "    l=0\n",
    "    for folder in os.listdir(path):\n",
    "        path_folder = path + folder\n",
    "        for name_image in os.listdir( path_folder):\n",
    "            path_image = path_folder +\"/\"+ name_image\n",
    "            image = cv2.imread(path_image,0)\n",
    "            img_kernel = cv2.medianBlur(image,5)\n",
    "            X_train.append(img_kernel)\n",
    "            y_train.append(l)\n",
    "            quadrant_turn = [15,30,45,90,135,180,270]\n",
    "            if folder == \"disgust\":\n",
    "                for j in quadrant_turn:\n",
    "                    (h, w) = image.shape\n",
    "                    center = (w / 2, h / 2)\n",
    "                    check = cv2.getRotationMatrix2D(center, j , 0)\n",
    "                    img_turn = cv2.warpAffine(image, check, (h, w))\n",
    "                    img_kernel = cv2.medianBlur(img_turn,5)\n",
    "                    X_train.append(img_kernel)\n",
    "                    y_train.append(l)\n",
    "        l+=1"
   ]
  },
  {
   "cell_type": "code",
   "execution_count": 11,
   "metadata": {},
   "outputs": [],
   "source": [
    "load_data(path_train)"
   ]
  },
  {
   "cell_type": "code",
   "execution_count": 12,
   "metadata": {},
   "outputs": [],
   "source": [
    "#load dât test\n",
    "X_test, y_test =[],[]\n",
    "for folder in os.listdir(path_test):\n",
    "    l=0\n",
    "    path_folder = path_test + folder\n",
    "    for name_image in os.listdir( path_folder):\n",
    "        path_image = path_folder +\"/\"+ name_image\n",
    "        image = cv2.imread(path_image,0)\n",
    "        img_kernel = cv2.medianBlur(image,5)\n",
    "        X_test.append(img_kernel)\n",
    "        y_test.append(l)\n",
    "    l+=1"
   ]
  },
  {
   "cell_type": "code",
   "execution_count": 13,
   "metadata": {},
   "outputs": [],
   "source": [
    "X_train = np.array(X_train) \n",
    "X_train = X_train/255\n",
    "X_test = np.array(X_test) \n",
    "X_test= X_test/255\n",
    "X_train= X_train.reshape(X_train.shape[0],48,48,1)\n",
    "X_val = X_train\n",
    "X_test = X_test.reshape(X_test.shape[0],48,48,1)\n",
    "y_train =np.array(y_train)\n",
    "y_val = np.array(y_train)\n",
    "y_test = np.array(y_test)\n",
    "\n"
   ]
  },
  {
   "cell_type": "code",
   "execution_count": 14,
   "metadata": {},
   "outputs": [
    {
     "output_type": "stream",
     "name": "stdout",
     "text": [
      "(31761, 48, 48, 1)\n(31761,)\n(7178, 48, 48, 1)\n(7178,)\n(31761, 48, 48, 1)\n(31761,)\n"
     ]
    }
   ],
   "source": [
    "print(X_train.shape)\n",
    "print(y_train.shape)\n",
    "print(X_test.shape)\n",
    "print(y_test.shape)\n",
    "print(X_val.shape)\n",
    "print(y_val.shape)"
   ]
  },
  {
   "cell_type": "code",
   "execution_count": 17,
   "metadata": {},
   "outputs": [
    {
     "output_type": "stream",
     "name": "stdout",
     "text": [
      "225/225 [==============================] - 166s 734ms/step - loss: 0.1023 - accuracy: 0.9855\n"
     ]
    }
   ],
   "source": [
    "from keras.models import load_model\n",
    "loaded_model=load_model('facial_expresion_comparsion_model.hdf5')\n",
    "predict=loaded_model.fit(X_test,y_test)\n"
   ]
  },
  {
   "cell_type": "code",
   "execution_count": 9,
   "metadata": {},
   "outputs": [],
   "source": [
    "#model\n",
    "model = Sequential()"
   ]
  },
  {
   "cell_type": "code",
   "execution_count": 10,
   "metadata": {},
   "outputs": [],
   "source": [
    "#box1\n",
    "# dùng hàm rule làm activation và chỉ rõ input_shape cho layer đầu tiên\n",
    "model.add(Conv2D(64,(3,3), activation = 'relu',input_shape=(48,48,1),padding='same', data_format='channels_last'))\n",
    "model.add(Conv2D(64,(3,3), activation = 'relu'))\n",
    "model.add(MaxPooling2D(pool_size=(2,2)))"
   ]
  },
  {
   "cell_type": "code",
   "execution_count": 11,
   "metadata": {},
   "outputs": [],
   "source": [
    "#box2\n",
    "model.add(Conv2D(128,(3,3), activation = 'relu',padding='same', data_format='channels_last'))\n",
    "model.add(Conv2D(128,(3,3), activation = 'relu'))\n",
    "model.add(MaxPooling2D(pool_size=(2,2)))\n"
   ]
  },
  {
   "cell_type": "code",
   "execution_count": 12,
   "metadata": {},
   "outputs": [],
   "source": [
    "#box3\n",
    "model.add(Conv2D(256,(3,3), activation = 'relu',padding='same', data_format='channels_last'))\n",
    "model.add(Conv2D(256,(3,3), activation = 'relu'))\n",
    "model.add(MaxPooling2D(pool_size=(2,2)))"
   ]
  },
  {
   "cell_type": "code",
   "execution_count": 13,
   "metadata": {},
   "outputs": [],
   "source": [
    "#box4\n",
    "model.add(Conv2D(512,(3,3), activation = 'relu',padding='same', data_format='channels_last'))\n",
    "model.add(Conv2D(512,(3,3), activation = 'relu'))\n",
    "model.add(MaxPooling2D(pool_size=(2,2)))"
   ]
  },
  {
   "cell_type": "code",
   "execution_count": 18,
   "metadata": {},
   "outputs": [
    {
     "output_type": "error",
     "ename": "NameError",
     "evalue": "name 'model' is not defined",
     "traceback": [
      "\u001b[1;31m---------------------------------------------------------------------------\u001b[0m",
      "\u001b[1;31mNameError\u001b[0m                                 Traceback (most recent call last)",
      "\u001b[1;32m<ipython-input-18-195140ee5008>\u001b[0m in \u001b[0;36m<module>\u001b[1;34m\u001b[0m\n\u001b[0;32m      3\u001b[0m model.add(MaxPooling2D(pool_size=(2,2)))'''\n\u001b[0;32m      4\u001b[0m \u001b[1;33m\u001b[0m\u001b[0m\n\u001b[1;32m----> 5\u001b[1;33m \u001b[0mmodel\u001b[0m\u001b[1;33m.\u001b[0m\u001b[0madd\u001b[0m\u001b[1;33m(\u001b[0m\u001b[0mFlatten\u001b[0m\u001b[1;33m(\u001b[0m\u001b[1;33m)\u001b[0m\u001b[1;33m)\u001b[0m\u001b[1;33m\u001b[0m\u001b[1;33m\u001b[0m\u001b[0m\n\u001b[0m\u001b[0;32m      6\u001b[0m \u001b[0mmodel\u001b[0m\u001b[1;33m.\u001b[0m\u001b[0madd\u001b[0m\u001b[1;33m(\u001b[0m\u001b[0mDense\u001b[0m\u001b[1;33m(\u001b[0m\u001b[1;36m128\u001b[0m\u001b[1;33m,\u001b[0m \u001b[0mactivation\u001b[0m\u001b[1;33m=\u001b[0m\u001b[1;34m'relu'\u001b[0m\u001b[1;33m)\u001b[0m\u001b[1;33m)\u001b[0m\u001b[1;33m\u001b[0m\u001b[1;33m\u001b[0m\u001b[0m\n\u001b[0;32m      7\u001b[0m \u001b[0mmodel\u001b[0m\u001b[1;33m.\u001b[0m\u001b[0madd\u001b[0m\u001b[1;33m(\u001b[0m\u001b[0mDense\u001b[0m\u001b[1;33m(\u001b[0m\u001b[1;36m10\u001b[0m\u001b[1;33m,\u001b[0m \u001b[0mactivation\u001b[0m\u001b[1;33m=\u001b[0m\u001b[1;34m'sigmoid'\u001b[0m\u001b[1;33m)\u001b[0m\u001b[1;33m)\u001b[0m\u001b[1;33m\u001b[0m\u001b[1;33m\u001b[0m\u001b[0m\n",
      "\u001b[1;31mNameError\u001b[0m: name 'model' is not defined"
     ]
    }
   ],
   "source": [
    "'''model.add(Conv2D(256,(7,7), activation = 'relu',padding='same', data_format='channels_last'))\n",
    "model.add(Conv2D(256,(7,7), activation = 'relu'))\n",
    "model.add(MaxPooling2D(pool_size=(2,2)))'''\n",
    "\n",
    "model.add(Flatten()) #Flatten layer chuyển từ tensor sang vector\n",
    "model.add(Dense(128, activation='relu'))# Thêm Fully Connected layer với 128 nodes và dùng hàm rule\n",
    "model.add(Dense(10, activation='softmax'))# Output layer với 10 node và dùng sigmoid function để chuyển sang xác suất."
   ]
  },
  {
   "cell_type": "code",
   "execution_count": 15,
   "metadata": {},
   "outputs": [],
   "source": [
    "# đùng để tối ưu hàm loss function.\n",
    "model.compile(loss='sparse_categorical_crossentropy',optimizer='adam',metrics=['accuracy'])"
   ]
  },
  {
   "cell_type": "code",
   "execution_count": 16,
   "metadata": {},
   "outputs": [
    {
     "output_type": "stream",
     "name": "stdout",
     "text": [
      "Epoch 1/20\n",
      "993/993 [==============================] - 790s 782ms/step - loss: 1.7589 - accuracy: 0.2911 - val_loss: 1.4298 - val_accuracy: 0.4397\n",
      "Epoch 2/20\n",
      "993/993 [==============================] - 824s 830ms/step - loss: 1.4208 - accuracy: 0.4463 - val_loss: 1.3003 - val_accuracy: 0.4977\n",
      "Epoch 3/20\n",
      "993/993 [==============================] - 821s 827ms/step - loss: 1.2830 - accuracy: 0.5041 - val_loss: 1.1808 - val_accuracy: 0.5477\n",
      "Epoch 4/20\n",
      "993/993 [==============================] - 823s 829ms/step - loss: 1.1888 - accuracy: 0.5490 - val_loss: 1.0283 - val_accuracy: 0.6176\n",
      "Epoch 5/20\n",
      "993/993 [==============================] - 822s 828ms/step - loss: 1.0474 - accuracy: 0.6032 - val_loss: 0.8816 - val_accuracy: 0.6817\n",
      "Epoch 6/20\n",
      "993/993 [==============================] - 821s 827ms/step - loss: 0.8946 - accuracy: 0.6646 - val_loss: 0.6975 - val_accuracy: 0.7534\n",
      "Epoch 7/20\n",
      "993/993 [==============================] - 821s 827ms/step - loss: 0.7046 - accuracy: 0.7361 - val_loss: 0.4920 - val_accuracy: 0.8267\n",
      "Epoch 8/20\n",
      "993/993 [==============================] - 822s 828ms/step - loss: 0.5028 - accuracy: 0.8180 - val_loss: 0.3369 - val_accuracy: 0.8873\n",
      "Epoch 9/20\n",
      "993/993 [==============================] - 820s 826ms/step - loss: 0.3527 - accuracy: 0.8726 - val_loss: 0.2412 - val_accuracy: 0.9205\n",
      "Epoch 10/20\n",
      "993/993 [==============================] - 821s 827ms/step - loss: 0.2577 - accuracy: 0.9100 - val_loss: 0.2056 - val_accuracy: 0.9321\n",
      "Epoch 11/20\n",
      "993/993 [==============================] - 823s 829ms/step - loss: 0.2030 - accuracy: 0.9307 - val_loss: 0.1706 - val_accuracy: 0.9440\n",
      "Epoch 12/20\n",
      "993/993 [==============================] - 821s 826ms/step - loss: 0.1829 - accuracy: 0.9377 - val_loss: 0.1033 - val_accuracy: 0.9686\n",
      "Epoch 13/20\n",
      "993/993 [==============================] - 821s 827ms/step - loss: 0.1403 - accuracy: 0.9554 - val_loss: 0.1104 - val_accuracy: 0.9651\n",
      "Epoch 14/20\n",
      "993/993 [==============================] - 824s 830ms/step - loss: 0.1510 - accuracy: 0.9491 - val_loss: 0.1138 - val_accuracy: 0.9628\n",
      "Epoch 15/20\n",
      "993/993 [==============================] - 824s 830ms/step - loss: 0.1257 - accuracy: 0.9584 - val_loss: 0.0946 - val_accuracy: 0.9697\n",
      "Epoch 16/20\n",
      "993/993 [==============================] - 821s 826ms/step - loss: 0.1283 - accuracy: 0.9580 - val_loss: 0.0825 - val_accuracy: 0.9729\n",
      "Epoch 17/20\n",
      "993/993 [==============================] - 822s 828ms/step - loss: 0.1091 - accuracy: 0.9623 - val_loss: 0.1239 - val_accuracy: 0.9606\n",
      "Epoch 18/20\n",
      "993/993 [==============================] - 821s 827ms/step - loss: 0.1143 - accuracy: 0.9630 - val_loss: 0.0887 - val_accuracy: 0.9729\n",
      "Epoch 19/20\n",
      "993/993 [==============================] - 831s 837ms/step - loss: 0.0968 - accuracy: 0.9689 - val_loss: 0.0817 - val_accuracy: 0.9736\n",
      "Epoch 20/20\n",
      "993/993 [==============================] - 820s 826ms/step - loss: 0.0878 - accuracy: 0.9731 - val_loss: 0.1034 - val_accuracy: 0.9661\n"
     ]
    }
   ],
   "source": [
    "H = model.fit(X_train, y_train, validation_data= (X_val,y_val) ,batch_size=32, epochs=20, verbose=1)"
   ]
  },
  {
   "cell_type": "code",
   "execution_count": 17,
   "metadata": {},
   "outputs": [
    {
     "output_type": "stream",
     "name": "stdout",
     "text": [
      "[9.450490951538086, 0.09974923729896545]\n"
     ]
    }
   ],
   "source": [
    "score = model.evaluate(X_test, y_test, verbose=0)\n",
    "print(score)"
   ]
  },
  {
   "cell_type": "code",
   "execution_count": 6,
   "metadata": {},
   "outputs": [
    {
     "output_type": "error",
     "ename": "NameError",
     "evalue": "name 'X_test' is not defined",
     "traceback": [
      "\u001b[1;31m---------------------------------------------------------------------------\u001b[0m",
      "\u001b[1;31mNameError\u001b[0m                                 Traceback (most recent call last)",
      "\u001b[1;32m<ipython-input-6-0c6c519eaa3f>\u001b[0m in \u001b[0;36m<module>\u001b[1;34m\u001b[0m\n\u001b[1;32m----> 1\u001b[1;33m \u001b[0mpredict\u001b[0m\u001b[1;33m=\u001b[0m\u001b[0mloaded_model\u001b[0m\u001b[1;33m.\u001b[0m\u001b[0mfit\u001b[0m\u001b[1;33m(\u001b[0m\u001b[0mX_test\u001b[0m\u001b[1;33m,\u001b[0m\u001b[0my_test\u001b[0m\u001b[1;33m)\u001b[0m\u001b[1;33m\u001b[0m\u001b[1;33m\u001b[0m\u001b[0m\n\u001b[0m\u001b[0;32m      2\u001b[0m \u001b[0mprint\u001b[0m\u001b[1;33m(\u001b[0m\u001b[0mpredict\u001b[0m\u001b[1;33m*\u001b[0m\u001b[1;36m100\u001b[0m\u001b[1;33m)\u001b[0m\u001b[1;33m\u001b[0m\u001b[1;33m\u001b[0m\u001b[0m\n",
      "\u001b[1;31mNameError\u001b[0m: name 'X_test' is not defined"
     ]
    }
   ],
   "source": []
  },
  {
   "cell_type": "code",
   "execution_count": 29,
   "metadata": {},
   "outputs": [],
   "source": []
  }
 ]
}