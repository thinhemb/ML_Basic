{
 "metadata": {
  "language_info": {
   "codemirror_mode": {
    "name": "ipython",
    "version": 3
   },
   "file_extension": ".py",
   "mimetype": "text/x-python",
   "name": "python",
   "nbconvert_exporter": "python",
   "pygments_lexer": "ipython3",
   "version": "3.9.4"
  },
  "orig_nbformat": 2,
  "kernelspec": {
   "name": "python394jvsc74a57bd03d6f83d0f182cc7a9b062ee15cb3b0307539c91cd94e08753511486f8c2e0bf0",
   "display_name": "Python 3.9.4 64-bit"
  },
  "metadata": {
   "interpreter": {
    "hash": "3d6f83d0f182cc7a9b062ee15cb3b0307539c91cd94e08753511486f8c2e0bf0"
   }
  }
 },
 "nbformat": 4,
 "nbformat_minor": 2,
 "cells": [
  {
   "cell_type": "code",
   "execution_count": 1,
   "metadata": {},
   "outputs": [],
   "source": [
    "import pandas as pd\n",
    "import numpy as np \n",
    "import requests\n",
    "import cv2"
   ]
  },
  {
   "cell_type": "code",
   "execution_count": 2,
   "metadata": {},
   "outputs": [],
   "source": [
    "#def download_image(url)"
   ]
  },
  {
   "cell_type": "code",
   "execution_count": 3,
   "metadata": {},
   "outputs": [],
   "source": [
    "df = pd.read_csv(\"../Face/FEC_dataset/Faceexp_comparison_data_train_public.csv\")"
   ]
  },
  {
   "cell_type": "code",
   "execution_count": 4,
   "metadata": {},
   "outputs": [
    {
     "output_type": "stream",
     "name": "stdout",
     "text": [
      "(449143, 38)\n"
     ]
    }
   ],
   "source": [
    "X = df.shape\n",
    "print(X)"
   ]
  },
  {
   "cell_type": "code",
   "execution_count": 5,
   "metadata": {},
   "outputs": [
    {
     "output_type": "execute_result",
     "data": {
      "text/plain": [
       "                                                   1         2         3  \\\n",
       "0  http://farm5.staticflickr.com/4108/5185055338_...  0.142578  0.266602   \n",
       "1  http://farm5.staticflickr.com/4108/5185055338_...  0.142578  0.266602   \n",
       "2  http://farm5.staticflickr.com/4108/5185055338_...  0.142578  0.266602   \n",
       "3  http://farm5.staticflickr.com/4108/5185055338_...  0.718750  0.826172   \n",
       "4  http://farm5.staticflickr.com/4108/5185055338_...  0.718750  0.826172   \n",
       "\n",
       "          4         5                                                  6  \\\n",
       "0  0.065421  0.297508  http://farm3.staticflickr.com/2127/5765052001_...   \n",
       "1  0.065421  0.297508  http://farm4.staticflickr.com/3543/3387356856_...   \n",
       "2  0.065421  0.297508  http://farm4.staticflickr.com/3858/14540292875...   \n",
       "3  0.194704  0.394081  http://farm4.staticflickr.com/3875/14501588548...   \n",
       "4  0.194704  0.394081  http://farm6.staticflickr.com/5143/5693754914_...   \n",
       "\n",
       "          7         8         9        10  ...  29  30  Unnamed: 30  \\\n",
       "0  0.439490  0.596178  0.289062  0.427734  ... NaN NaN          NaN   \n",
       "1  0.335938  0.441406  0.130307  0.311859  ... NaN NaN          NaN   \n",
       "2  0.206442  0.524158  0.078125  0.325195  ... NaN NaN          NaN   \n",
       "3  0.318665  0.488619  0.162109  0.290039  ... NaN NaN          NaN   \n",
       "4  0.244141  0.380859  0.175000  0.413235  ... NaN NaN          NaN   \n",
       "\n",
       "   Unnamed: 31  Unnamed: 32 Unnamed: 33  Unnamed: 34  Unnamed: 35  \\\n",
       "0          NaN          NaN         NaN          NaN          NaN   \n",
       "1          NaN          NaN         NaN          NaN          NaN   \n",
       "2          NaN          NaN         NaN          NaN          NaN   \n",
       "3          NaN          NaN         NaN          NaN          NaN   \n",
       "4          NaN          NaN         NaN          NaN          NaN   \n",
       "\n",
       "   Unnamed: 36  Unnamed: 37  \n",
       "0          NaN          NaN  \n",
       "1          NaN          NaN  \n",
       "2          NaN          NaN  \n",
       "3          NaN          NaN  \n",
       "4          NaN          NaN  \n",
       "\n",
       "[5 rows x 38 columns]"
      ],
      "text/html": "<div>\n<style scoped>\n    .dataframe tbody tr th:only-of-type {\n        vertical-align: middle;\n    }\n\n    .dataframe tbody tr th {\n        vertical-align: top;\n    }\n\n    .dataframe thead th {\n        text-align: right;\n    }\n</style>\n<table border=\"1\" class=\"dataframe\">\n  <thead>\n    <tr style=\"text-align: right;\">\n      <th></th>\n      <th>1</th>\n      <th>2</th>\n      <th>3</th>\n      <th>4</th>\n      <th>5</th>\n      <th>6</th>\n      <th>7</th>\n      <th>8</th>\n      <th>9</th>\n      <th>10</th>\n      <th>...</th>\n      <th>29</th>\n      <th>30</th>\n      <th>Unnamed: 30</th>\n      <th>Unnamed: 31</th>\n      <th>Unnamed: 32</th>\n      <th>Unnamed: 33</th>\n      <th>Unnamed: 34</th>\n      <th>Unnamed: 35</th>\n      <th>Unnamed: 36</th>\n      <th>Unnamed: 37</th>\n    </tr>\n  </thead>\n  <tbody>\n    <tr>\n      <th>0</th>\n      <td>http://farm5.staticflickr.com/4108/5185055338_...</td>\n      <td>0.142578</td>\n      <td>0.266602</td>\n      <td>0.065421</td>\n      <td>0.297508</td>\n      <td>http://farm3.staticflickr.com/2127/5765052001_...</td>\n      <td>0.439490</td>\n      <td>0.596178</td>\n      <td>0.289062</td>\n      <td>0.427734</td>\n      <td>...</td>\n      <td>NaN</td>\n      <td>NaN</td>\n      <td>NaN</td>\n      <td>NaN</td>\n      <td>NaN</td>\n      <td>NaN</td>\n      <td>NaN</td>\n      <td>NaN</td>\n      <td>NaN</td>\n      <td>NaN</td>\n    </tr>\n    <tr>\n      <th>1</th>\n      <td>http://farm5.staticflickr.com/4108/5185055338_...</td>\n      <td>0.142578</td>\n      <td>0.266602</td>\n      <td>0.065421</td>\n      <td>0.297508</td>\n      <td>http://farm4.staticflickr.com/3543/3387356856_...</td>\n      <td>0.335938</td>\n      <td>0.441406</td>\n      <td>0.130307</td>\n      <td>0.311859</td>\n      <td>...</td>\n      <td>NaN</td>\n      <td>NaN</td>\n      <td>NaN</td>\n      <td>NaN</td>\n      <td>NaN</td>\n      <td>NaN</td>\n      <td>NaN</td>\n      <td>NaN</td>\n      <td>NaN</td>\n      <td>NaN</td>\n    </tr>\n    <tr>\n      <th>2</th>\n      <td>http://farm5.staticflickr.com/4108/5185055338_...</td>\n      <td>0.142578</td>\n      <td>0.266602</td>\n      <td>0.065421</td>\n      <td>0.297508</td>\n      <td>http://farm4.staticflickr.com/3858/14540292875...</td>\n      <td>0.206442</td>\n      <td>0.524158</td>\n      <td>0.078125</td>\n      <td>0.325195</td>\n      <td>...</td>\n      <td>NaN</td>\n      <td>NaN</td>\n      <td>NaN</td>\n      <td>NaN</td>\n      <td>NaN</td>\n      <td>NaN</td>\n      <td>NaN</td>\n      <td>NaN</td>\n      <td>NaN</td>\n      <td>NaN</td>\n    </tr>\n    <tr>\n      <th>3</th>\n      <td>http://farm5.staticflickr.com/4108/5185055338_...</td>\n      <td>0.718750</td>\n      <td>0.826172</td>\n      <td>0.194704</td>\n      <td>0.394081</td>\n      <td>http://farm4.staticflickr.com/3875/14501588548...</td>\n      <td>0.318665</td>\n      <td>0.488619</td>\n      <td>0.162109</td>\n      <td>0.290039</td>\n      <td>...</td>\n      <td>NaN</td>\n      <td>NaN</td>\n      <td>NaN</td>\n      <td>NaN</td>\n      <td>NaN</td>\n      <td>NaN</td>\n      <td>NaN</td>\n      <td>NaN</td>\n      <td>NaN</td>\n      <td>NaN</td>\n    </tr>\n    <tr>\n      <th>4</th>\n      <td>http://farm5.staticflickr.com/4108/5185055338_...</td>\n      <td>0.718750</td>\n      <td>0.826172</td>\n      <td>0.194704</td>\n      <td>0.394081</td>\n      <td>http://farm6.staticflickr.com/5143/5693754914_...</td>\n      <td>0.244141</td>\n      <td>0.380859</td>\n      <td>0.175000</td>\n      <td>0.413235</td>\n      <td>...</td>\n      <td>NaN</td>\n      <td>NaN</td>\n      <td>NaN</td>\n      <td>NaN</td>\n      <td>NaN</td>\n      <td>NaN</td>\n      <td>NaN</td>\n      <td>NaN</td>\n      <td>NaN</td>\n      <td>NaN</td>\n    </tr>\n  </tbody>\n</table>\n<p>5 rows × 38 columns</p>\n</div>"
     },
     "metadata": {},
     "execution_count": 5
    }
   ],
   "source": [
    "df.head(5)"
   ]
  },
  {
   "cell_type": "code",
   "execution_count": null,
   "metadata": {},
   "outputs": [],
   "source": [
    "column_url=[0,5,10]\n",
    "for i in range(int(X[0]/5)):\n",
    "    for j in column_url:\n",
    "        try:\n",
    "            url_link = df.iloc[i,j]\n",
    "            name_img =  \"../Face/imag_train/\"+url_link.split(\"/\")[-1]\n",
    "            response = requests.get(url_link)\n",
    "            file = open(name_img,\"wb\")\n",
    "            file.write(response.content)\n",
    "            file.close()\n",
    "            response.raise_for_status()\n",
    "            img = cv2.imread(name_img)\n",
    "            img_shape = img.shape\n",
    "            crop_img = img[ int( df.iloc[i, j + 3 ] * img_shape[0] ): int( df.iloc[ i, j + 4 ] * img_shape[0]),int( df.iloc[i, j + 1 ] * img_shape[1] ):int( df.iloc[ i, j + 2 ] * img_shape[1] )]\n",
    "            save_img = cv2.resize(crop_img,(256,256))\n",
    "            cv2.imwrite(name_img,save_img)\n",
    "        except requests.exceptions.RequestException:\n",
    "            continue"
   ]
  },
  {
   "cell_type": "code",
   "execution_count": 6,
   "metadata": {},
   "outputs": [],
   "source": [
    "#lable \n",
    "image_0 = []\n",
    "image_1 = []\n",
    "image_2 = []\n",
    "triplet_types = []\n",
    "for i in range(int(X[0]/5)):\n",
    "    image_0.append(\"../Face/imag_train/\" + df.iloc[i,0].split('/')[-1])\n",
    "    image_1.append(\"../Face/imag_train/\"  + df.iloc[i,5].split('/')[-1]) \n",
    "    image_2.append(\"../Face/imag_train/\"  + df.iloc[i,10].split('/')[-1]) \n",
    "    triplet_types.append(df.iloc[i,15])"
   ]
  },
  {
   "cell_type": "code",
   "execution_count": 7,
   "metadata": {},
   "outputs": [
    {
     "output_type": "execute_result",
     "data": {
      "text/plain": [
       "                                          image_0  \\\n",
       "0  ../Face/imag_train/5185055338_1dec873bf3_b.jpg   \n",
       "1  ../Face/imag_train/5185055338_1dec873bf3_b.jpg   \n",
       "2  ../Face/imag_train/5185055338_1dec873bf3_b.jpg   \n",
       "3  ../Face/imag_train/5185055338_1dec873bf3_b.jpg   \n",
       "4  ../Face/imag_train/5185055338_1dec873bf3_b.jpg   \n",
       "\n",
       "                                           image_1  \\\n",
       "0   ../Face/imag_train/5765052001_fa4c5fd8b0_b.jpg   \n",
       "1   ../Face/imag_train/3387356856_1c35c2efdf_b.jpg   \n",
       "2  ../Face/imag_train/14540292875_ffb91ba2fb_b.jpg   \n",
       "3  ../Face/imag_train/14501588548_9ab31946e1_b.jpg   \n",
       "4   ../Face/imag_train/5693754914_661a07e85b_b.jpg   \n",
       "\n",
       "                                           image_2      triplet_types  \n",
       "0   ../Face/imag_train/8914150145_b9b336331c_b.jpg  ONE_CLASS_TRIPLET  \n",
       "1   ../Face/imag_train/9280612097_0567a0de3f_b.jpg  TWO_CLASS_TRIPLET  \n",
       "2   ../Face/imag_train/4747184973_2ffe91f793_b.jpg  ONE_CLASS_TRIPLET  \n",
       "3    ../Face/imag_train/241047479_eb0ea515f8_z.jpg  TWO_CLASS_TRIPLET  \n",
       "4  ../Face/imag_train/12590745114_cd07a26439_b.jpg  ONE_CLASS_TRIPLET  "
      ],
      "text/html": "<div>\n<style scoped>\n    .dataframe tbody tr th:only-of-type {\n        vertical-align: middle;\n    }\n\n    .dataframe tbody tr th {\n        vertical-align: top;\n    }\n\n    .dataframe thead th {\n        text-align: right;\n    }\n</style>\n<table border=\"1\" class=\"dataframe\">\n  <thead>\n    <tr style=\"text-align: right;\">\n      <th></th>\n      <th>image_0</th>\n      <th>image_1</th>\n      <th>image_2</th>\n      <th>triplet_types</th>\n    </tr>\n  </thead>\n  <tbody>\n    <tr>\n      <th>0</th>\n      <td>../Face/imag_train/5185055338_1dec873bf3_b.jpg</td>\n      <td>../Face/imag_train/5765052001_fa4c5fd8b0_b.jpg</td>\n      <td>../Face/imag_train/8914150145_b9b336331c_b.jpg</td>\n      <td>ONE_CLASS_TRIPLET</td>\n    </tr>\n    <tr>\n      <th>1</th>\n      <td>../Face/imag_train/5185055338_1dec873bf3_b.jpg</td>\n      <td>../Face/imag_train/3387356856_1c35c2efdf_b.jpg</td>\n      <td>../Face/imag_train/9280612097_0567a0de3f_b.jpg</td>\n      <td>TWO_CLASS_TRIPLET</td>\n    </tr>\n    <tr>\n      <th>2</th>\n      <td>../Face/imag_train/5185055338_1dec873bf3_b.jpg</td>\n      <td>../Face/imag_train/14540292875_ffb91ba2fb_b.jpg</td>\n      <td>../Face/imag_train/4747184973_2ffe91f793_b.jpg</td>\n      <td>ONE_CLASS_TRIPLET</td>\n    </tr>\n    <tr>\n      <th>3</th>\n      <td>../Face/imag_train/5185055338_1dec873bf3_b.jpg</td>\n      <td>../Face/imag_train/14501588548_9ab31946e1_b.jpg</td>\n      <td>../Face/imag_train/241047479_eb0ea515f8_z.jpg</td>\n      <td>TWO_CLASS_TRIPLET</td>\n    </tr>\n    <tr>\n      <th>4</th>\n      <td>../Face/imag_train/5185055338_1dec873bf3_b.jpg</td>\n      <td>../Face/imag_train/5693754914_661a07e85b_b.jpg</td>\n      <td>../Face/imag_train/12590745114_cd07a26439_b.jpg</td>\n      <td>ONE_CLASS_TRIPLET</td>\n    </tr>\n  </tbody>\n</table>\n</div>"
     },
     "metadata": {},
     "execution_count": 7
    }
   ],
   "source": [
    "# tao dataframe\n",
    "label ={}\n",
    "label[\"image_0\"] = image_0\n",
    "label[\"image_1\"] = image_1\n",
    "label[\"image_2\"] = image_2\n",
    "label[\"triplet_types\"] = triplet_types\n",
    "label_train = pd.DataFrame(label)\n",
    "label_train.head()"
   ]
  },
  {
   "cell_type": "code",
   "execution_count": 8,
   "metadata": {},
   "outputs": [],
   "source": [
    "# save lable_train\n",
    "label_train.to_csv(\"../Face/label_train.csv\")"
   ]
  },
  {
   "cell_type": "code",
   "execution_count": null,
   "metadata": {},
   "outputs": [],
   "source": []
  }
 ]
}