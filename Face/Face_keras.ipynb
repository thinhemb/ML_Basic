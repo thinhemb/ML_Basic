{
 "cells": [
  {
   "cell_type": "code",
   "execution_count": 1,
   "metadata": {},
   "outputs": [],
   "source": [
    "import numpy as np \n",
    "import pandas as pd \n",
    "from tensorflow.keras.models import Sequential\n",
    "from tensorflow.keras.layers import Flatten, Dense, Dropout , Activation\n",
    "from tensorflow.keras.layers import Conv2D, MaxPooling2D\n",
    "import cv2,os\n",
    "#from tensorflow.keras.utils import np_utils"
   ]
  },
  {
   "cell_type": "code",
   "execution_count": 2,
   "metadata": {},
   "outputs": [],
   "source": [
    "path_train = \"/home/viettinh/Machine_learning/Face/archive/train/\"\n",
    "path_test = \"/home/viettinh/Machine_learning/Face/archive/test/\""
   ]
  },
  {
   "cell_type": "code",
   "execution_count": 3,
   "metadata": {},
   "outputs": [],
   "source": [
    "X_train, y_train = [],[]\n",
    "X_test, y_test =[], []"
   ]
  },
  {
   "cell_type": "code",
   "execution_count": 4,
   "metadata": {},
   "outputs": [],
   "source": [
    "#load data train, thêm data , làm ảnh không mờ\n",
    "def load_data(path):\n",
    "    l=0\n",
    "    for folder in os.listdir(path):\n",
    "        path_folder = path + folder\n",
    "        for name_image in os.listdir( path_folder):\n",
    "            path_image = path_folder +\"/\"+ name_image\n",
    "            image = cv2.imread(path_image,0)\n",
    "            img_kernel = cv2.medianBlur(image,5)\n",
    "            X_train.append(img_kernel)\n",
    "            y_train.append(l)\n",
    "            quadrant_turn = [15,30,45,90,135,180,270]\n",
    "            if folder == \"disgust\":\n",
    "                for j in quadrant_turn:\n",
    "                    (h, w) = image.shape\n",
    "                    center = (w / 2, h / 2)\n",
    "                    check = cv2.getRotationMatrix2D(center, j , 0)\n",
    "                    img_turn = cv2.warpAffine(image, check, (h, w))\n",
    "                    img_kernel = cv2.medianBlur(img_turn,5)\n",
    "                    X_train.append(img_kernel)\n",
    "                    y_train.append(l)\n",
    "        l+=1\n"
   ]
  },
  {
   "cell_type": "code",
   "execution_count": 5,
   "metadata": {},
   "outputs": [],
   "source": [
    "load_data(path_train)"
   ]
  },
  {
   "cell_type": "code",
   "execution_count": 7,
   "metadata": {},
   "outputs": [
    {
     "name": "stdout",
     "output_type": "stream",
     "text": [
      "(31761, 48, 48)\n"
     ]
    }
   ],
   "source": [
    "X_train = np.array(X_train) \n",
    "X_train = X_train/255\n",
    "print(X_train.shape)\n",
    "X_train= X_train.reshape(X_train.shape[0],48,48,1)\n",
    "X_val = X_train\n",
    "y_train =np.array(y_train)\n",
    "y_val = np.array(y_train)"
   ]
  },
  {
   "cell_type": "code",
   "execution_count": 27,
   "metadata": {},
   "outputs": [
    {
     "name": "stdout",
     "output_type": "stream",
     "text": [
      "(31761, 48, 48, 1)\n",
      "(31761,)\n",
      "(31761, 48, 48, 1)\n",
      "(31761,)\n"
     ]
    }
   ],
   "source": [
    "print(X_train.shape)\n",
    "print(y_train.shape)\n",
    "print(X_val.shape)\n",
    "print(y_val.shape)"
   ]
  },
  {
   "cell_type": "code",
   "execution_count": 28,
   "metadata": {},
   "outputs": [],
   "source": [
    "model = Sequential()\n",
    "#box1\n",
    "# dùng hàm rule làm activation và chỉ rõ input_shape cho layer đầu tiên\n",
    "model.add(Conv2D(64,(3,3), activation = 'relu',input_shape=(48,48,1),padding='same', data_format='channels_last'))\n",
    "model.add(Conv2D(64,(3,3), activation = 'relu'))\n",
    "model.add(MaxPooling2D(pool_size=(2,2)))"
   ]
  },
  {
   "cell_type": "code",
   "execution_count": 29,
   "metadata": {},
   "outputs": [],
   "source": [
    "#box2\n",
    "model.add(Conv2D(128,(3,3), activation = 'relu',padding='same', data_format='channels_last'))\n",
    "model.add(Conv2D(128,(3,3), activation = 'relu'))\n",
    "model.add(MaxPooling2D(pool_size=(2,2)))\n"
   ]
  },
  {
   "cell_type": "code",
   "execution_count": 30,
   "metadata": {},
   "outputs": [],
   "source": [
    "\n",
    "#box3\n",
    "model.add(Conv2D(256,(3,3), activation = 'relu',padding='same', data_format='channels_last'))\n",
    "model.add(Conv2D(256,(3,3), activation = 'relu'))\n",
    "model.add(MaxPooling2D(pool_size=(2,2)))"
   ]
  },
  {
   "cell_type": "code",
   "execution_count": 31,
   "metadata": {},
   "outputs": [],
   "source": [
    "#box4\n",
    "model.add(Conv2D(512,(3,3), activation = 'relu',padding='same', data_format='channels_last'))\n",
    "model.add(Conv2D(512,(3,3), activation = 'relu'))\n",
    "model.add(MaxPooling2D(pool_size=(2,2)))"
   ]
  },
  {
   "cell_type": "code",
   "execution_count": 32,
   "metadata": {},
   "outputs": [],
   "source": [
    "model.add(Flatten()) #Flatten layer chuyển từ tensor sang vector\n",
    "model.add(Dense(128, activation='relu'))# Thêm Fully Connected layer với 128 nodes và dùng hàm rule\n",
    "model.add(Dense(10, activation='softmax'))# Output layer với 10 node và dùng sigmoid function để chuyển sang xác suất."
   ]
  },
  {
   "cell_type": "code",
   "execution_count": 33,
   "metadata": {},
   "outputs": [],
   "source": [
    "# đùng để tối ưu hàm loss function.\n",
    "model.compile(loss='sparse_categorical_crossentropy',optimizer='adam',metrics=['accuracy'])"
   ]
  },
  {
   "cell_type": "code",
   "execution_count": 34,
   "metadata": {},
   "outputs": [
    {
     "name": "stdout",
     "output_type": "stream",
     "text": [
      "Epoch 1/20\n",
      "993/993 [==============================] - 514s 516ms/step - loss: 1.6301 - accuracy: 0.3546 - val_loss: 1.4624 - val_accuracy: 0.4173\n",
      "Epoch 2/20\n",
      "993/993 [==============================] - 517s 521ms/step - loss: 1.3912 - accuracy: 0.4606 - val_loss: 1.2970 - val_accuracy: 0.5030\n",
      "Epoch 3/20\n",
      "993/993 [==============================] - 518s 522ms/step - loss: 1.2837 - accuracy: 0.5070 - val_loss: 1.2173 - val_accuracy: 0.5358\n",
      "Epoch 4/20\n",
      "993/993 [==============================] - 518s 521ms/step - loss: 1.1853 - accuracy: 0.5494 - val_loss: 1.0765 - val_accuracy: 0.5952\n",
      "Epoch 5/20\n",
      "993/993 [==============================] - 518s 522ms/step - loss: 1.0694 - accuracy: 0.5937 - val_loss: 0.9130 - val_accuracy: 0.6567\n",
      "Epoch 6/20\n",
      "993/993 [==============================] - 550s 554ms/step - loss: 0.9330 - accuracy: 0.6518 - val_loss: 0.7504 - val_accuracy: 0.7360\n",
      "Epoch 7/20\n",
      "993/993 [==============================] - 631s 636ms/step - loss: 0.7526 - accuracy: 0.7237 - val_loss: 0.5130 - val_accuracy: 0.8273\n",
      "Epoch 8/20\n",
      "993/993 [==============================] - 625s 629ms/step - loss: 0.5586 - accuracy: 0.7974 - val_loss: 0.3711 - val_accuracy: 0.8773\n",
      "Epoch 9/20\n",
      "993/993 [==============================] - 650s 655ms/step - loss: 0.3936 - accuracy: 0.8586 - val_loss: 0.2241 - val_accuracy: 0.9266\n",
      "Epoch 10/20\n",
      "993/993 [==============================] - 650s 655ms/step - loss: 0.2983 - accuracy: 0.8966 - val_loss: 0.2013 - val_accuracy: 0.9358\n",
      "Epoch 11/20\n",
      "993/993 [==============================] - 642s 646ms/step - loss: 0.2327 - accuracy: 0.9217 - val_loss: 0.1414 - val_accuracy: 0.9530\n",
      "Epoch 12/20\n",
      "993/993 [==============================] - 649s 654ms/step - loss: 0.1940 - accuracy: 0.9336 - val_loss: 0.1167 - val_accuracy: 0.9634\n",
      "Epoch 13/20\n",
      "993/993 [==============================] - 652s 657ms/step - loss: 0.1807 - accuracy: 0.9395 - val_loss: 0.1268 - val_accuracy: 0.9577\n",
      "Epoch 14/20\n",
      "993/993 [==============================] - 654s 659ms/step - loss: 0.1614 - accuracy: 0.9452 - val_loss: 0.1387 - val_accuracy: 0.9561\n",
      "Epoch 15/20\n",
      "993/993 [==============================] - 622s 627ms/step - loss: 0.1507 - accuracy: 0.9501 - val_loss: 0.1162 - val_accuracy: 0.9627\n",
      "Epoch 16/20\n",
      "993/993 [==============================] - 544s 548ms/step - loss: 0.1306 - accuracy: 0.9567 - val_loss: 0.1010 - val_accuracy: 0.9669\n",
      "Epoch 17/20\n",
      "993/993 [==============================] - 547s 551ms/step - loss: 0.1326 - accuracy: 0.9562 - val_loss: 0.0844 - val_accuracy: 0.9723\n",
      "Epoch 18/20\n",
      "993/993 [==============================] - 537s 541ms/step - loss: 0.1280 - accuracy: 0.9592 - val_loss: 0.0989 - val_accuracy: 0.9673\n",
      "Epoch 19/20\n",
      "993/993 [==============================] - 542s 545ms/step - loss: 0.1151 - accuracy: 0.9626 - val_loss: 0.1105 - val_accuracy: 0.9641\n",
      "Epoch 20/20\n",
      "993/993 [==============================] - 538s 542ms/step - loss: 0.1233 - accuracy: 0.9599 - val_loss: 0.1000 - val_accuracy: 0.9672\n"
     ]
    }
   ],
   "source": [
    "H = model.fit(X_train, y_train, validation_data= (X_val,y_val) ,batch_size=32, epochs=20, verbose=1)"
   ]
  },
  {
   "cell_type": "code",
   "execution_count": 35,
   "metadata": {},
   "outputs": [],
   "source": [
    "path_test = \"/home/viettinh/Machine_learning/Face/archive/test/\"\n",
    "#load dât test\n",
    "X_test, y_test =[],[]\n",
    "for folder in os.listdir(path_test):\n",
    "    l=0\n",
    "    path_folder = path_test + folder\n",
    "    for name_image in os.listdir( path_folder):\n",
    "        path_image = path_folder +\"/\"+ name_image\n",
    "        image = cv2.imread(path_image,0)\n",
    "        img_kernel = cv2.medianBlur(image,5)\n",
    "        X_test.append(img_kernel)\n",
    "        y_test.append(l)\n",
    "    l+=1\n",
    "X_test = np.array(X_test) \n",
    "X_test= X_test/255\n",
    "X_test = X_test.reshape(X_test.shape[0],48,48,1)\n",
    "y_test = np.array(y_test)"
   ]
  },
  {
   "cell_type": "code",
   "execution_count": 36,
   "metadata": {},
   "outputs": [
    {
     "name": "stdout",
     "output_type": "stream",
     "text": [
      "225/225 [==============================] - 104s 461ms/step - loss: 0.1100 - accuracy: 0.9870\n"
     ]
    }
   ],
   "source": [
    "predict=model.fit(X_test,y_test)\n",
    "#model.save(model.hdf5)"
   ]
  },
  {
   "cell_type": "code",
   "execution_count": 37,
   "metadata": {},
   "outputs": [
    {
     "name": "stdout",
     "output_type": "stream",
     "text": [
      "Evaluate in test data \n",
      "[2.1025771275162697e-06, 1.0]\n"
     ]
    }
   ],
   "source": [
    "print(\"Evaluate in test data \")\n",
    "store = model. evaluate(X_test, y_test, verbose=0)\n",
    "print (store)"
   ]
  },
  {
   "cell_type": "code",
   "execution_count": 38,
   "metadata": {},
   "outputs": [],
   "source": [
    "model.save('model.h5')"
   ]
  },
  {
   "cell_type": "code",
   "execution_count": 49,
   "metadata": {},
   "outputs": [
    {
     "name": "stdout",
     "output_type": "stream",
     "text": [
      "Giá trị dự đoán:  0\n",
      "0\n"
     ]
    },
    {
     "data": {
      "image/png": "[encoded data removed]",
      "text/plain": [
       "<Figure size 432x288 with 1 Axes>"
      ]
     },
     "metadata": {
      "needs_background": "light"
     },
     "output_type": "display_data"
    }
   ],
   "source": [
    "import matplotlib.pyplot as plt \n",
    "plt.imshow(X_test[7].reshape(48,48,1), cmap='gray')\n",
    "y_predict = model.predict(X_test[7].reshape(1,48,48,1))\n",
    "print('Giá trị dự đoán: ', np.argmax(y_predict))\n",
    "print(y_test[7])"
   ]
  }
 ],
 "metadata": {
  "interpreter": {
   "hash": "916dbcbb3f70747c44a77c7bcd40155683ae19c65e1c03b4aa3499c5328201f1"
  },
  "kernelspec": {
   "display_name": "Python 3.8.10 64-bit",
   "name": "python3"
  },
  "language_info": {
   "codemirror_mode": {
    "name": "ipython",
    "version": 3
   },
   "file_extension": ".py",
   "mimetype": "text/x-python",
   "name": "python",
   "nbconvert_exporter": "python",
   "pygments_lexer": "ipython3",
   "version": "3.8.10"
  },
  "orig_nbformat": 4
 },
 "nbformat": 4,
 "nbformat_minor": 2
}